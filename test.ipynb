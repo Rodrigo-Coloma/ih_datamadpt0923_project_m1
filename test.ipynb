{
 "cells": [
  {
   "cell_type": "code",
   "execution_count": 8,
   "metadata": {},
   "outputs": [
    {
     "data": {
      "text/plain": [
       "CompletedProcess(args=['../../../../miniconda3/envs/pm1/python.exe', 'main.py', '-r', '-s', 'calle pez, 2', '-f', 'Calle de tetuan', '-p', 'fuente de cibeles, neptuno, Maestro alonso, La gloria y los pegasos, cabo naval, El vecino curioso'], returncode=0, stdout=\"Interest points dataframe created\\nBicimad dataframe created\\n La gloria y los pegasos doesn't match any monument in the database\\n cabo naval doesn't match any monument in the database\\n                  Type of place  ... distance\\nPlace of interest                ...         \\nStarting location      Monument  ...    53.36\\nFuente de Cibeles      Monument  ...    78.58\\nNeptuno                Monument  ...   190.87\\nMaestro Alonso         Monument  ...   131.40\\nEl Vecino Curioso      Monument  ...   149.66\\nFinish location        Monument  ...   115.09\\n\\n[6 rows x 7 columns]\\n21.687960863113403\\n\", stderr=\"c:\\\\Users\\\\rjcol\\\\ironhack\\\\project\\\\project_module_1\\\\ih_datamadpt0923_project_m1\\\\modules\\\\map_generator.py:71: FutureWarning: Series.__getitem__ treating keys as positions is deprecated. In a future version, integer keys will always be treated as labels (consistent with DataFrame behavior). To access a value by position, use `ser.iloc[pos]`\\n  folium.Marker(location=[target_df['location.latitude'][0],target_df['location.longitude'][0]], icon=icon, popup=popup).add_to(m)\\nc:\\\\Users\\\\rjcol\\\\ironhack\\\\project\\\\project_module_1\\\\ih_datamadpt0923_project_m1\\\\modules\\\\map_generator.py:80: FutureWarning: Series.__getitem__ treating keys as positions is deprecated. In a future version, integer keys will always be treated as labels (consistent with DataFrame behavior). To access a value by position, use `ser.iloc[pos]`\\n  folium.Marker(location=[target_df['location.latitude'][-1],target_df['location.longitude'][-1]], icon=icon, popup=popup).add_to(m)\\n\")"
      ]
     },
     "execution_count": 8,
     "metadata": {},
     "output_type": "execute_result"
    }
   ],
   "source": [
    "from subprocess import run\n",
    "from flask import Flask\n",
    "from flask import render_template\n",
    "from flask import request"
   ]
  },
  {
   "cell_type": "code",
   "execution_count": 16,
   "metadata": {},
   "outputs": [
    {
     "name": "stdout",
     "output_type": "stream",
     "text": [
      " * Serving Flask app '__main__'\n",
      " * Debug mode: off\n"
     ]
    },
    {
     "name": "stderr",
     "output_type": "stream",
     "text": [
      "WARNING: This is a development server. Do not use it in a production deployment. Use a production WSGI server instead.\n",
      " * Running on http://127.0.0.1:5000\n",
      "Press CTRL+C to quit\n",
      "127.0.0.1 - - [18/Nov/2023 18:38:49] \"GET / HTTP/1.1\" 200 -\n"
     ]
    },
    {
     "name": "stdout",
     "output_type": "stream",
     "text": [
      "ImmutableMultiDict([('email', ''), ('start', 'bravo murillo 13'), ('finish', 'poeta joan maragall 18'), ('monuments', 'fuente de cibeles, puerta alcala, neptuno, oso y madroño ')])\n"
     ]
    },
    {
     "name": "stderr",
     "output_type": "stream",
     "text": [
      "127.0.0.1 - - [18/Nov/2023 18:40:20] \"POST / HTTP/1.1\" 200 -\n"
     ]
    }
   ],
   "source": [
    "app = Flask(__name__)\n",
    "@app.route('/',methods= ['POST','GET'])\n",
    "def index():\n",
    "    if request.method == 'POST':\n",
    "        input = request.form\n",
    "        start = input['start']\n",
    "        print(input)    \n",
    "        run(['../../../../miniconda3/envs/pm1/python.exe','main.py', '-r', '-s', f\"{input['start']}\", '-f', f\"{input['finish']}\", '-p', f\"{input['monuments']}\"],capture_output=True,text=True)\n",
    "        return render_template('base.html')\n",
    "    else:\n",
    "        return render_template('base.html')\n",
    "\n",
    "app.run()"
   ]
  },
  {
   "cell_type": "code",
   "execution_count": 10,
   "metadata": {},
   "outputs": [
    {
     "ename": "NameError",
     "evalue": "name 'email' is not defined",
     "output_type": "error",
     "traceback": [
      "\u001b[1;31m---------------------------------------------------------------------------\u001b[0m",
      "\u001b[1;31mNameError\u001b[0m                                 Traceback (most recent call last)",
      "\u001b[1;32mc:\\Users\\rjcol\\ironhack\\project\\project_module_1\\ih_datamadpt0923_project_m1\\test.ipynb Cell 3\u001b[0m line \u001b[0;36m1\n\u001b[1;32m----> <a href='vscode-notebook-cell:/c%3A/Users/rjcol/ironhack/project/project_module_1/ih_datamadpt0923_project_m1/test.ipynb#W2sZmlsZQ%3D%3D?line=0'>1</a>\u001b[0m email\n",
      "\u001b[1;31mNameError\u001b[0m: name 'email' is not defined"
     ]
    }
   ],
   "source": [
    "email"
   ]
  },
  {
   "cell_type": "code",
   "execution_count": null,
   "metadata": {},
   "outputs": [],
   "source": []
  }
 ],
 "metadata": {
  "kernelspec": {
   "display_name": "pm1",
   "language": "python",
   "name": "python3"
  },
  "language_info": {
   "codemirror_mode": {
    "name": "ipython",
    "version": 3
   },
   "file_extension": ".py",
   "mimetype": "text/x-python",
   "name": "python",
   "nbconvert_exporter": "python",
   "pygments_lexer": "ipython3",
   "version": "3.12.0"
  }
 },
 "nbformat": 4,
 "nbformat_minor": 2
}
