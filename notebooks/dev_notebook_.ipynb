{
 "cells": [
  {
   "cell_type": "markdown",
   "id": "ce7d9907",
   "metadata": {},
   "source": [
    "### dev_notebook_\n",
    "\n",
    "This is your development environment...you may start:\n",
    "- Exploring your data.\n",
    "- Testing the ad-hoc methods.\n",
    "- Designing your pipeline."
   ]
  },
  {
   "cell_type": "code",
   "execution_count": 91,
   "metadata": {},
   "outputs": [],
   "source": [
    "import pandas as pd\n",
    "import requests\n",
    "from shapely.geometry import Point\n",
    "import geopandas as gpd\n",
    "import re"
   ]
  },
  {
   "cell_type": "code",
   "execution_count": 92,
   "id": "34f39f9b",
   "metadata": {},
   "outputs": [],
   "source": [
    "interest_url = '/catalogo/300356-0-monumentos-ciudad-madrid.json'\n"
   ]
  },
  {
   "cell_type": "code",
   "execution_count": 122,
   "metadata": {},
   "outputs": [],
   "source": [
    "def interest_points(url):\n",
    "    base_url = 'https://datos.madrid.es/egob'\n",
    "    df = pd.json_normalize(requests.get(base_url + url).json()['@graph'])\n",
    "    print('Interest points dataframe created')\n",
    "    return df"
   ]
  },
  {
   "cell_type": "code",
   "execution_count": 125,
   "metadata": {},
   "outputs": [
    {
     "name": "stdout",
     "output_type": "stream",
     "text": [
      "Interest points dataframe created\n"
     ]
    },
    {
     "data": {
      "text/html": [
       "<div>\n",
       "<style scoped>\n",
       "    .dataframe tbody tr th:only-of-type {\n",
       "        vertical-align: middle;\n",
       "    }\n",
       "\n",
       "    .dataframe tbody tr th {\n",
       "        vertical-align: top;\n",
       "    }\n",
       "\n",
       "    .dataframe thead th {\n",
       "        text-align: right;\n",
       "    }\n",
       "</style>\n",
       "<table border=\"1\" class=\"dataframe\">\n",
       "  <thead>\n",
       "    <tr style=\"text-align: right;\">\n",
       "      <th></th>\n",
       "      <th>@id</th>\n",
       "      <th>id</th>\n",
       "      <th>title</th>\n",
       "      <th>relation</th>\n",
       "      <th>references</th>\n",
       "      <th>address.district.@id</th>\n",
       "      <th>address.locality</th>\n",
       "      <th>address.postal-code</th>\n",
       "      <th>address.street-address</th>\n",
       "      <th>location.latitude</th>\n",
       "      <th>location.longitude</th>\n",
       "      <th>organization.organization-desc</th>\n",
       "      <th>organization.organization-name</th>\n",
       "      <th>address.area.@id</th>\n",
       "    </tr>\n",
       "  </thead>\n",
       "  <tbody>\n",
       "    <tr>\n",
       "      <th>0</th>\n",
       "      <td>https://datos.madrid.es/egob/catalogo/tipo/mon...</td>\n",
       "      <td>409634</td>\n",
       "      <td>A las víctimas del Holocausto</td>\n",
       "      <td>https://patrimonioypaisaje.madrid.es/sites/v/i...</td>\n",
       "      <td>https://patrimonioypaisaje.madrid.es/FrameWork...</td>\n",
       "      <td>https://datos.madrid.es/egob/kos/Provincia/Mad...</td>\n",
       "      <td>MADRID</td>\n",
       "      <td></td>\n",
       "      <td>JARDIN TRES CULTURAS</td>\n",
       "      <td>40.464322</td>\n",
       "      <td>-3.603558</td>\n",
       "      <td>La obra, creada por el escultor judío de orige...</td>\n",
       "      <td>A las víctimas del Holocausto</td>\n",
       "      <td>NaN</td>\n",
       "    </tr>\n",
       "    <tr>\n",
       "      <th>1</th>\n",
       "      <td>https://datos.madrid.es/egob/catalogo/tipo/mon...</td>\n",
       "      <td>409512</td>\n",
       "      <td>A los Abuelos</td>\n",
       "      <td>https://patrimonioypaisaje.madrid.es/sites/v/i...</td>\n",
       "      <td>https://patrimonioypaisaje.madrid.es/FrameWork...</td>\n",
       "      <td>https://datos.madrid.es/egob/kos/Provincia/Mad...</td>\n",
       "      <td>MADRID</td>\n",
       "      <td></td>\n",
       "      <td>C Alicún</td>\n",
       "      <td>40.479812</td>\n",
       "      <td>-3.661719</td>\n",
       "      <td>Pequeña escultura, situada en un parque delimi...</td>\n",
       "      <td>A los Abuelos</td>\n",
       "      <td>https://datos.madrid.es/egob/kos/Provincia/Mad...</td>\n",
       "    </tr>\n",
       "    <tr>\n",
       "      <th>2</th>\n",
       "      <td>https://datos.madrid.es/egob/catalogo/tipo/mon...</td>\n",
       "      <td>408781</td>\n",
       "      <td>A Neruda-El Ser alado</td>\n",
       "      <td>https://patrimonioypaisaje.madrid.es/sites/v/i...</td>\n",
       "      <td>https://patrimonioypaisaje.madrid.es/FrameWork...</td>\n",
       "      <td>https://datos.madrid.es/egob/kos/Provincia/Mad...</td>\n",
       "      <td>MADRID</td>\n",
       "      <td></td>\n",
       "      <td>Gta José Luis Ozores 116</td>\n",
       "      <td>40.381855</td>\n",
       "      <td>-3.652419</td>\n",
       "      <td>Monumento dedicado al escritor Pablo Neruda (1...</td>\n",
       "      <td>A Neruda-El Ser alado</td>\n",
       "      <td>https://datos.madrid.es/egob/kos/Provincia/Mad...</td>\n",
       "    </tr>\n",
       "    <tr>\n",
       "      <th>3</th>\n",
       "      <td>https://datos.madrid.es/egob/catalogo/tipo/mon...</td>\n",
       "      <td>408836</td>\n",
       "      <td>Abogados Laboristas</td>\n",
       "      <td>https://patrimonioypaisaje.madrid.es/sites/v/i...</td>\n",
       "      <td>https://patrimonioypaisaje.madrid.es/FrameWork...</td>\n",
       "      <td>https://datos.madrid.es/egob/kos/Provincia/Mad...</td>\n",
       "      <td>MADRID</td>\n",
       "      <td></td>\n",
       "      <td>C Atocha 55</td>\n",
       "      <td>40.412911</td>\n",
       "      <td>-3.700017</td>\n",
       "      <td>El 24 de enero de 1977 se produjo un atentado ...</td>\n",
       "      <td>Abogados Laboristas</td>\n",
       "      <td>https://datos.madrid.es/egob/kos/Provincia/Mad...</td>\n",
       "    </tr>\n",
       "    <tr>\n",
       "      <th>4</th>\n",
       "      <td>https://datos.madrid.es/egob/catalogo/tipo/mon...</td>\n",
       "      <td>408920</td>\n",
       "      <td>Abstracta I</td>\n",
       "      <td>https://patrimonioypaisaje.madrid.es/sites/v/i...</td>\n",
       "      <td>https://patrimonioypaisaje.madrid.es/FrameWork...</td>\n",
       "      <td>https://datos.madrid.es/egob/kos/Provincia/Mad...</td>\n",
       "      <td>MADRID</td>\n",
       "      <td></td>\n",
       "      <td></td>\n",
       "      <td>40.421746</td>\n",
       "      <td>-3.662293</td>\n",
       "      <td>La histórica quinta de la Fuente del Berro, de...</td>\n",
       "      <td>Abstracta I</td>\n",
       "      <td>https://datos.madrid.es/egob/kos/Provincia/Mad...</td>\n",
       "    </tr>\n",
       "    <tr>\n",
       "      <th>5</th>\n",
       "      <td>https://datos.madrid.es/egob/catalogo/tipo/mon...</td>\n",
       "      <td>408921</td>\n",
       "      <td>Abstracta II</td>\n",
       "      <td>https://patrimonioypaisaje.madrid.es/sites/v/i...</td>\n",
       "      <td>https://patrimonioypaisaje.madrid.es/FrameWork...</td>\n",
       "      <td>https://datos.madrid.es/egob/kos/Provincia/Mad...</td>\n",
       "      <td>MADRID</td>\n",
       "      <td></td>\n",
       "      <td></td>\n",
       "      <td>40.421962</td>\n",
       "      <td>-3.662260</td>\n",
       "      <td>La histórica quinta de la Fuente del Berro, de...</td>\n",
       "      <td>Abstracta II</td>\n",
       "      <td>https://datos.madrid.es/egob/kos/Provincia/Mad...</td>\n",
       "    </tr>\n",
       "    <tr>\n",
       "      <th>6</th>\n",
       "      <td>https://datos.madrid.es/egob/catalogo/tipo/mon...</td>\n",
       "      <td>400147</td>\n",
       "      <td>Abundancia</td>\n",
       "      <td>https://patrimonioypaisaje.madrid.es/sites/v/i...</td>\n",
       "      <td>https://patrimonioypaisaje.madrid.es/FrameWork...</td>\n",
       "      <td>https://datos.madrid.es/egob/kos/Provincia/Mad...</td>\n",
       "      <td>MADRID</td>\n",
       "      <td>28003</td>\n",
       "      <td>CALLE GUZMAN EL BUENO 137</td>\n",
       "      <td>40.444201</td>\n",
       "      <td>-3.712595</td>\n",
       "      <td>En el año 1958 se celebró un sorteo extraordin...</td>\n",
       "      <td>Abundancia</td>\n",
       "      <td>https://datos.madrid.es/egob/kos/Provincia/Mad...</td>\n",
       "    </tr>\n",
       "    <tr>\n",
       "      <th>7</th>\n",
       "      <td>https://datos.madrid.es/egob/catalogo/tipo/mon...</td>\n",
       "      <td>414012</td>\n",
       "      <td>Academia de Farmacia</td>\n",
       "      <td>https://patrimonioypaisaje.madrid.es/sites/v/i...</td>\n",
       "      <td>https://patrimonioypaisaje.madrid.es/FrameWork...</td>\n",
       "      <td>https://datos.madrid.es/egob/kos/Provincia/Mad...</td>\n",
       "      <td>MADRID</td>\n",
       "      <td></td>\n",
       "      <td>C Farmacia 9</td>\n",
       "      <td>40.423967</td>\n",
       "      <td>-3.699719</td>\n",
       "      <td>La Academia de Farmacia tuvo como antecedente ...</td>\n",
       "      <td>Academia de Farmacia</td>\n",
       "      <td>https://datos.madrid.es/egob/kos/Provincia/Mad...</td>\n",
       "    </tr>\n",
       "    <tr>\n",
       "      <th>8</th>\n",
       "      <td>https://datos.madrid.es/egob/catalogo/tipo/mon...</td>\n",
       "      <td>409550</td>\n",
       "      <td>Acueducto y rejas sobre el arroyo del Barranco...</td>\n",
       "      <td>https://patrimonioypaisaje.madrid.es/sites/v/i...</td>\n",
       "      <td>https://patrimonioypaisaje.madrid.es/FrameWork...</td>\n",
       "      <td>https://datos.madrid.es/egob/kos/Provincia/Mad...</td>\n",
       "      <td>MADRID</td>\n",
       "      <td></td>\n",
       "      <td>CAMINO HUMERA</td>\n",
       "      <td>40.411744</td>\n",
       "      <td>-3.778890</td>\n",
       "      <td>Esta construcción, híbrida de puente-acueducto...</td>\n",
       "      <td>Acueducto y rejas sobre el arroyo del Barranco...</td>\n",
       "      <td>NaN</td>\n",
       "    </tr>\n",
       "    <tr>\n",
       "      <th>9</th>\n",
       "      <td>https://datos.madrid.es/egob/catalogo/tipo/mon...</td>\n",
       "      <td>400108</td>\n",
       "      <td>Ad Iesum per Mariam</td>\n",
       "      <td>https://patrimonioypaisaje.madrid.es/sites/v/i...</td>\n",
       "      <td>https://patrimonioypaisaje.madrid.es/FrameWork...</td>\n",
       "      <td>https://datos.madrid.es/egob/kos/Provincia/Mad...</td>\n",
       "      <td>MADRID</td>\n",
       "      <td>28043</td>\n",
       "      <td>AVENIDA MACHUPICHU 1</td>\n",
       "      <td>40.455453</td>\n",
       "      <td>-3.623525</td>\n",
       "      <td>El grupo escultórico conocido como &amp;amp;ldquo;...</td>\n",
       "      <td>Ad Iesum per Mariam</td>\n",
       "      <td>https://datos.madrid.es/egob/kos/Provincia/Mad...</td>\n",
       "    </tr>\n",
       "  </tbody>\n",
       "</table>\n",
       "</div>"
      ],
      "text/plain": [
       "                                                 @id      id  \\\n",
       "0  https://datos.madrid.es/egob/catalogo/tipo/mon...  409634   \n",
       "1  https://datos.madrid.es/egob/catalogo/tipo/mon...  409512   \n",
       "2  https://datos.madrid.es/egob/catalogo/tipo/mon...  408781   \n",
       "3  https://datos.madrid.es/egob/catalogo/tipo/mon...  408836   \n",
       "4  https://datos.madrid.es/egob/catalogo/tipo/mon...  408920   \n",
       "5  https://datos.madrid.es/egob/catalogo/tipo/mon...  408921   \n",
       "6  https://datos.madrid.es/egob/catalogo/tipo/mon...  400147   \n",
       "7  https://datos.madrid.es/egob/catalogo/tipo/mon...  414012   \n",
       "8  https://datos.madrid.es/egob/catalogo/tipo/mon...  409550   \n",
       "9  https://datos.madrid.es/egob/catalogo/tipo/mon...  400108   \n",
       "\n",
       "                                               title  \\\n",
       "0                      A las víctimas del Holocausto   \n",
       "1                                      A los Abuelos   \n",
       "2                              A Neruda-El Ser alado   \n",
       "3                                Abogados Laboristas   \n",
       "4                                        Abstracta I   \n",
       "5                                       Abstracta II   \n",
       "6                                         Abundancia   \n",
       "7                               Academia de Farmacia   \n",
       "8  Acueducto y rejas sobre el arroyo del Barranco...   \n",
       "9                                Ad Iesum per Mariam   \n",
       "\n",
       "                                            relation  \\\n",
       "0  https://patrimonioypaisaje.madrid.es/sites/v/i...   \n",
       "1  https://patrimonioypaisaje.madrid.es/sites/v/i...   \n",
       "2  https://patrimonioypaisaje.madrid.es/sites/v/i...   \n",
       "3  https://patrimonioypaisaje.madrid.es/sites/v/i...   \n",
       "4  https://patrimonioypaisaje.madrid.es/sites/v/i...   \n",
       "5  https://patrimonioypaisaje.madrid.es/sites/v/i...   \n",
       "6  https://patrimonioypaisaje.madrid.es/sites/v/i...   \n",
       "7  https://patrimonioypaisaje.madrid.es/sites/v/i...   \n",
       "8  https://patrimonioypaisaje.madrid.es/sites/v/i...   \n",
       "9  https://patrimonioypaisaje.madrid.es/sites/v/i...   \n",
       "\n",
       "                                          references  \\\n",
       "0  https://patrimonioypaisaje.madrid.es/FrameWork...   \n",
       "1  https://patrimonioypaisaje.madrid.es/FrameWork...   \n",
       "2  https://patrimonioypaisaje.madrid.es/FrameWork...   \n",
       "3  https://patrimonioypaisaje.madrid.es/FrameWork...   \n",
       "4  https://patrimonioypaisaje.madrid.es/FrameWork...   \n",
       "5  https://patrimonioypaisaje.madrid.es/FrameWork...   \n",
       "6  https://patrimonioypaisaje.madrid.es/FrameWork...   \n",
       "7  https://patrimonioypaisaje.madrid.es/FrameWork...   \n",
       "8  https://patrimonioypaisaje.madrid.es/FrameWork...   \n",
       "9  https://patrimonioypaisaje.madrid.es/FrameWork...   \n",
       "\n",
       "                                address.district.@id address.locality  \\\n",
       "0  https://datos.madrid.es/egob/kos/Provincia/Mad...           MADRID   \n",
       "1  https://datos.madrid.es/egob/kos/Provincia/Mad...           MADRID   \n",
       "2  https://datos.madrid.es/egob/kos/Provincia/Mad...           MADRID   \n",
       "3  https://datos.madrid.es/egob/kos/Provincia/Mad...           MADRID   \n",
       "4  https://datos.madrid.es/egob/kos/Provincia/Mad...           MADRID   \n",
       "5  https://datos.madrid.es/egob/kos/Provincia/Mad...           MADRID   \n",
       "6  https://datos.madrid.es/egob/kos/Provincia/Mad...           MADRID   \n",
       "7  https://datos.madrid.es/egob/kos/Provincia/Mad...           MADRID   \n",
       "8  https://datos.madrid.es/egob/kos/Provincia/Mad...           MADRID   \n",
       "9  https://datos.madrid.es/egob/kos/Provincia/Mad...           MADRID   \n",
       "\n",
       "  address.postal-code     address.street-address  location.latitude  \\\n",
       "0                          JARDIN TRES CULTURAS           40.464322   \n",
       "1                                      C Alicún           40.479812   \n",
       "2                       Gta José Luis Ozores 116          40.381855   \n",
       "3                                    C Atocha 55          40.412911   \n",
       "4                                                         40.421746   \n",
       "5                                                         40.421962   \n",
       "6               28003  CALLE GUZMAN EL BUENO 137          40.444201   \n",
       "7                                   C Farmacia 9          40.423967   \n",
       "8                                 CAMINO HUMERA           40.411744   \n",
       "9               28043       AVENIDA MACHUPICHU 1          40.455453   \n",
       "\n",
       "   location.longitude                     organization.organization-desc  \\\n",
       "0           -3.603558  La obra, creada por el escultor judío de orige...   \n",
       "1           -3.661719  Pequeña escultura, situada en un parque delimi...   \n",
       "2           -3.652419  Monumento dedicado al escritor Pablo Neruda (1...   \n",
       "3           -3.700017  El 24 de enero de 1977 se produjo un atentado ...   \n",
       "4           -3.662293  La histórica quinta de la Fuente del Berro, de...   \n",
       "5           -3.662260  La histórica quinta de la Fuente del Berro, de...   \n",
       "6           -3.712595  En el año 1958 se celebró un sorteo extraordin...   \n",
       "7           -3.699719  La Academia de Farmacia tuvo como antecedente ...   \n",
       "8           -3.778890  Esta construcción, híbrida de puente-acueducto...   \n",
       "9           -3.623525  El grupo escultórico conocido como &amp;ldquo;...   \n",
       "\n",
       "                      organization.organization-name  \\\n",
       "0                      A las víctimas del Holocausto   \n",
       "1                                      A los Abuelos   \n",
       "2                              A Neruda-El Ser alado   \n",
       "3                                Abogados Laboristas   \n",
       "4                                        Abstracta I   \n",
       "5                                       Abstracta II   \n",
       "6                                         Abundancia   \n",
       "7                               Academia de Farmacia   \n",
       "8  Acueducto y rejas sobre el arroyo del Barranco...   \n",
       "9                                Ad Iesum per Mariam   \n",
       "\n",
       "                                    address.area.@id  \n",
       "0                                                NaN  \n",
       "1  https://datos.madrid.es/egob/kos/Provincia/Mad...  \n",
       "2  https://datos.madrid.es/egob/kos/Provincia/Mad...  \n",
       "3  https://datos.madrid.es/egob/kos/Provincia/Mad...  \n",
       "4  https://datos.madrid.es/egob/kos/Provincia/Mad...  \n",
       "5  https://datos.madrid.es/egob/kos/Provincia/Mad...  \n",
       "6  https://datos.madrid.es/egob/kos/Provincia/Mad...  \n",
       "7  https://datos.madrid.es/egob/kos/Provincia/Mad...  \n",
       "8                                                NaN  \n",
       "9  https://datos.madrid.es/egob/kos/Provincia/Mad...  "
      ]
     },
     "execution_count": 125,
     "metadata": {},
     "output_type": "execute_result"
    }
   ],
   "source": [
    "interest_df = interest_points(interest_url)\n",
    "interest_df.head(10)"
   ]
  },
  {
   "cell_type": "code",
   "execution_count": 119,
   "metadata": {},
   "outputs": [
    {
     "ename": "KeyError",
     "evalue": "\"['title', 'address.street-address'] not in index\"",
     "output_type": "error",
     "traceback": [
      "\u001b[1;31m---------------------------------------------------------------------------\u001b[0m",
      "\u001b[1;31mKeyError\u001b[0m                                  Traceback (most recent call last)",
      "\u001b[1;32mc:\\Users\\rjcol\\ironhack\\project\\project_module_1\\ih_datamadpt0923_project_m1\\notebooks\\dev_notebook_.ipynb Cell 6\u001b[0m line \u001b[0;36m2\n\u001b[0;32m      <a href='vscode-notebook-cell:/c%3A/Users/rjcol/ironhack/project/project_module_1/ih_datamadpt0923_project_m1/notebooks/dev_notebook_.ipynb#X23sZmlsZQ%3D%3D?line=0'>1</a>\u001b[0m interest_df[\u001b[39m'\u001b[39m\u001b[39mType of place\u001b[39m\u001b[39m'\u001b[39m] \u001b[39m=\u001b[39m \u001b[39m'\u001b[39m\u001b[39mMonument\u001b[39m\u001b[39m'\u001b[39m\n\u001b[1;32m----> <a href='vscode-notebook-cell:/c%3A/Users/rjcol/ironhack/project/project_module_1/ih_datamadpt0923_project_m1/notebooks/dev_notebook_.ipynb#X23sZmlsZQ%3D%3D?line=1'>2</a>\u001b[0m interest_df\u001b[39m=\u001b[39minterest_df[[\u001b[39m'\u001b[39;49m\u001b[39mtitle\u001b[39;49m\u001b[39m'\u001b[39;49m, \u001b[39m'\u001b[39;49m\u001b[39mType of place\u001b[39;49m\u001b[39m'\u001b[39;49m, \u001b[39m'\u001b[39;49m\u001b[39maddress.street-address\u001b[39;49m\u001b[39m'\u001b[39;49m]]\n\u001b[0;32m      <a href='vscode-notebook-cell:/c%3A/Users/rjcol/ironhack/project/project_module_1/ih_datamadpt0923_project_m1/notebooks/dev_notebook_.ipynb#X23sZmlsZQ%3D%3D?line=2'>3</a>\u001b[0m interest_df\u001b[39m.\u001b[39mcolumns \u001b[39m=\u001b[39m [\u001b[39m'\u001b[39m\u001b[39mPlace of interest\u001b[39m\u001b[39m'\u001b[39m, \u001b[39m'\u001b[39m\u001b[39mType of place\u001b[39m\u001b[39m'\u001b[39m, \u001b[39m'\u001b[39m\u001b[39mPlace address\u001b[39m\u001b[39m'\u001b[39m]\n\u001b[0;32m      <a href='vscode-notebook-cell:/c%3A/Users/rjcol/ironhack/project/project_module_1/ih_datamadpt0923_project_m1/notebooks/dev_notebook_.ipynb#X23sZmlsZQ%3D%3D?line=3'>4</a>\u001b[0m interest_df\n",
      "File \u001b[1;32mc:\\Users\\rjcol\\miniconda3\\envs\\pm1\\Lib\\site-packages\\pandas\\core\\frame.py:3899\u001b[0m, in \u001b[0;36mDataFrame.__getitem__\u001b[1;34m(self, key)\u001b[0m\n\u001b[0;32m   3897\u001b[0m     \u001b[39mif\u001b[39;00m is_iterator(key):\n\u001b[0;32m   3898\u001b[0m         key \u001b[39m=\u001b[39m \u001b[39mlist\u001b[39m(key)\n\u001b[1;32m-> 3899\u001b[0m     indexer \u001b[39m=\u001b[39m \u001b[39mself\u001b[39;49m\u001b[39m.\u001b[39;49mcolumns\u001b[39m.\u001b[39;49m_get_indexer_strict(key, \u001b[39m\"\u001b[39;49m\u001b[39mcolumns\u001b[39;49m\u001b[39m\"\u001b[39;49m)[\u001b[39m1\u001b[39m]\n\u001b[0;32m   3901\u001b[0m \u001b[39m# take() does not accept boolean indexers\u001b[39;00m\n\u001b[0;32m   3902\u001b[0m \u001b[39mif\u001b[39;00m \u001b[39mgetattr\u001b[39m(indexer, \u001b[39m\"\u001b[39m\u001b[39mdtype\u001b[39m\u001b[39m\"\u001b[39m, \u001b[39mNone\u001b[39;00m) \u001b[39m==\u001b[39m \u001b[39mbool\u001b[39m:\n",
      "File \u001b[1;32mc:\\Users\\rjcol\\miniconda3\\envs\\pm1\\Lib\\site-packages\\pandas\\core\\indexes\\base.py:6114\u001b[0m, in \u001b[0;36mIndex._get_indexer_strict\u001b[1;34m(self, key, axis_name)\u001b[0m\n\u001b[0;32m   6111\u001b[0m \u001b[39melse\u001b[39;00m:\n\u001b[0;32m   6112\u001b[0m     keyarr, indexer, new_indexer \u001b[39m=\u001b[39m \u001b[39mself\u001b[39m\u001b[39m.\u001b[39m_reindex_non_unique(keyarr)\n\u001b[1;32m-> 6114\u001b[0m \u001b[39mself\u001b[39;49m\u001b[39m.\u001b[39;49m_raise_if_missing(keyarr, indexer, axis_name)\n\u001b[0;32m   6116\u001b[0m keyarr \u001b[39m=\u001b[39m \u001b[39mself\u001b[39m\u001b[39m.\u001b[39mtake(indexer)\n\u001b[0;32m   6117\u001b[0m \u001b[39mif\u001b[39;00m \u001b[39misinstance\u001b[39m(key, Index):\n\u001b[0;32m   6118\u001b[0m     \u001b[39m# GH 42790 - Preserve name from an Index\u001b[39;00m\n",
      "File \u001b[1;32mc:\\Users\\rjcol\\miniconda3\\envs\\pm1\\Lib\\site-packages\\pandas\\core\\indexes\\base.py:6178\u001b[0m, in \u001b[0;36mIndex._raise_if_missing\u001b[1;34m(self, key, indexer, axis_name)\u001b[0m\n\u001b[0;32m   6175\u001b[0m     \u001b[39mraise\u001b[39;00m \u001b[39mKeyError\u001b[39;00m(\u001b[39mf\u001b[39m\u001b[39m\"\u001b[39m\u001b[39mNone of [\u001b[39m\u001b[39m{\u001b[39;00mkey\u001b[39m}\u001b[39;00m\u001b[39m] are in the [\u001b[39m\u001b[39m{\u001b[39;00maxis_name\u001b[39m}\u001b[39;00m\u001b[39m]\u001b[39m\u001b[39m\"\u001b[39m)\n\u001b[0;32m   6177\u001b[0m not_found \u001b[39m=\u001b[39m \u001b[39mlist\u001b[39m(ensure_index(key)[missing_mask\u001b[39m.\u001b[39mnonzero()[\u001b[39m0\u001b[39m]]\u001b[39m.\u001b[39munique())\n\u001b[1;32m-> 6178\u001b[0m \u001b[39mraise\u001b[39;00m \u001b[39mKeyError\u001b[39;00m(\u001b[39mf\u001b[39m\u001b[39m\"\u001b[39m\u001b[39m{\u001b[39;00mnot_found\u001b[39m}\u001b[39;00m\u001b[39m not in index\u001b[39m\u001b[39m\"\u001b[39m)\n",
      "\u001b[1;31mKeyError\u001b[0m: \"['title', 'address.street-address'] not in index\""
     ]
    }
   ],
   "source": [
    "interest_df['Type of place'] = 'Monument'\n",
    "interest_df=interest_df[['title', 'Type of place', 'address.street-address']]\n",
    "interest_df.columns = ['Place of interest', 'Type of place', 'Place address']\n",
    "interest_df"
   ]
  },
  {
   "cell_type": "code",
   "execution_count": 95,
   "metadata": {},
   "outputs": [
    {
     "name": "stdout",
     "output_type": "stream",
     "text": [
      "<class 'pandas.core.frame.DataFrame'>\n",
      "RangeIndex: 264 entries, 0 to 263\n",
      "Data columns (total 14 columns):\n",
      " #   Column                Non-Null Count  Dtype \n",
      "---  ------                --------------  ----- \n",
      " 0   Unnamed: 0            264 non-null    int64 \n",
      " 1   id                    264 non-null    int64 \n",
      " 2   name                  264 non-null    object\n",
      " 3   light                 264 non-null    int64 \n",
      " 4   number                264 non-null    object\n",
      " 5   address               264 non-null    object\n",
      " 6   activate              264 non-null    int64 \n",
      " 7   no_available          264 non-null    int64 \n",
      " 8   total_bases           264 non-null    int64 \n",
      " 9   dock_bikes            264 non-null    int64 \n",
      " 10  free_bases            264 non-null    int64 \n",
      " 11  reservations_count    264 non-null    int64 \n",
      " 12  geometry.type         264 non-null    object\n",
      " 13  geometry.coordinates  264 non-null    object\n",
      "dtypes: int64(9), object(5)\n",
      "memory usage: 29.0+ KB\n"
     ]
    }
   ],
   "source": [
    "bicimad_df = pd.read_csv('../data/origin/bicimad_stations.csv', sep='\\t')\n",
    "bicimad_df.info()"
   ]
  },
  {
   "cell_type": "code",
   "execution_count": 96,
   "metadata": {},
   "outputs": [
    {
     "data": {
      "text/plain": [
       "geometry.coordinates    [-3.690786, 40.418146]\n",
       "Name: 2, dtype: object"
      ]
     },
     "execution_count": 96,
     "metadata": {},
     "output_type": "execute_result"
    }
   ],
   "source": [
    "bicipark_df = pd.read_csv('../data/origin/bicipark_stations.csv', sep=';')\n",
    "bicipark_df.loc[2,['geometry.coordinates']]"
   ]
  },
  {
   "cell_type": "code",
   "execution_count": 98,
   "metadata": {},
   "outputs": [
    {
     "name": "stdout",
     "output_type": "stream",
     "text": [
      "<class 'pandas.core.frame.DataFrame'>\n",
      "RangeIndex: 11 entries, 0 to 10\n",
      "Data columns (total 12 columns):\n",
      " #   Column                Non-Null Count  Dtype \n",
      "---  ------                --------------  ----- \n",
      " 0   Unnamed: 0            11 non-null     int64 \n",
      " 1   stationId             11 non-null     int64 \n",
      " 2   stationName           11 non-null     object\n",
      " 3   address               11 non-null     object\n",
      " 4   city                  11 non-null     object\n",
      " 5   zip_code              11 non-null     object\n",
      " 6   total_places          11 non-null     int64 \n",
      " 7   free_places           11 non-null     int64 \n",
      " 8   enabled               11 non-null     int64 \n",
      " 9   reserved_places       11 non-null     int64 \n",
      " 10  geometry.type         11 non-null     object\n",
      " 11  geometry.coordinates  11 non-null     object\n",
      "dtypes: int64(6), object(6)\n",
      "memory usage: 1.2+ KB\n"
     ]
    }
   ],
   "source": [
    "bicipark_df.info()"
   ]
  },
  {
   "cell_type": "code",
   "execution_count": 116,
   "metadata": {},
   "outputs": [
    {
     "name": "stdout",
     "output_type": "stream",
     "text": [
      "<class 'pandas.core.series.Series'>\n",
      "RangeIndex: 264 entries, 0 to 263\n",
      "Series name: longitude\n",
      "Non-Null Count  Dtype  \n",
      "--------------  -----  \n",
      "264 non-null    float64\n",
      "dtypes: float64(1)\n",
      "memory usage: 2.2 KB\n"
     ]
    }
   ],
   "source": [
    "bicimad_df[['longitude', 'latitude']] = bicimad_df['geometry.coordinates'].str.strip('[]').str.split(',',expand= True).astype('float64')\n",
    "bicimad_df['longitude'].info()"
   ]
  },
  {
   "cell_type": "code",
   "execution_count": 113,
   "metadata": {},
   "outputs": [
    {
     "data": {
      "text/plain": [
       "Index(['Unnamed: 0', 'id', 'name', 'light', 'number', 'address', 'activate',\n",
       "       'no_available', 'total_bases', 'dock_bikes', 'free_bases',\n",
       "       'reservations_count', 'geometry.type', 'geometry.coordinates'],\n",
       "      dtype='object')"
      ]
     },
     "execution_count": 113,
     "metadata": {},
     "output_type": "execute_result"
    }
   ],
   "source": [
    "bicimad_df.columns"
   ]
  },
  {
   "cell_type": "code",
   "execution_count": null,
   "metadata": {},
   "outputs": [],
   "source": [
    "bicimad_df.columns = ['BiciMAD station', 'light', 'number', 'Station location', 'activate',\n",
    "       'no_available', 'total_bases', 'dock_bikes', 'free_bases',\n",
    "       'reservations_count', 'geometry.type', 'geometry.coordinates']"
   ]
  },
  {
   "cell_type": "code",
   "execution_count": null,
   "metadata": {},
   "outputs": [
    {
     "ename": "KeyboardInterrupt",
     "evalue": "",
     "output_type": "error",
     "traceback": [
      "\u001b[1;31m---------------------------------------------------------------------------\u001b[0m",
      "\u001b[1;31mKeyboardInterrupt\u001b[0m                         Traceback (most recent call last)",
      "\u001b[1;32mc:\\Users\\rjcol\\ironhack\\project\\project_module_1\\ih_datamadpt0923_project_m1\\notebooks\\dev_notebook_.ipynb Cell 13\u001b[0m line \u001b[0;36m1\n\u001b[0;32m     <a href='vscode-notebook-cell:/c%3A/Users/rjcol/ironhack/project/project_module_1/ih_datamadpt0923_project_m1/notebooks/dev_notebook_.ipynb#X12sZmlsZQ%3D%3D?line=10'>11</a>\u001b[0m     finish \u001b[39m=\u001b[39m to_mercator(lat_finish, long_finish)\n\u001b[0;32m     <a href='vscode-notebook-cell:/c%3A/Users/rjcol/ironhack/project/project_module_1/ih_datamadpt0923_project_m1/notebooks/dev_notebook_.ipynb#X12sZmlsZQ%3D%3D?line=11'>12</a>\u001b[0m     \u001b[39mreturn\u001b[39;00m start\u001b[39m.\u001b[39mdistance(finish)\n\u001b[1;32m---> <a href='vscode-notebook-cell:/c%3A/Users/rjcol/ironhack/project/project_module_1/ih_datamadpt0923_project_m1/notebooks/dev_notebook_.ipynb#X12sZmlsZQ%3D%3D?line=14'>15</a>\u001b[0m interest_df\u001b[39m.\u001b[39mloc[:\u001b[39m1\u001b[39m,[\u001b[39m'\u001b[39m\u001b[39mstations_distances\u001b[39m\u001b[39m'\u001b[39m]] \u001b[39m=\u001b[39m interest_df\u001b[39m.\u001b[39;49mapply(\u001b[39mlambda\u001b[39;49;00m x: [distance_meters(x[\u001b[39m'\u001b[39;49m\u001b[39mlocation.latitude\u001b[39;49m\u001b[39m'\u001b[39;49m],x[\u001b[39m'\u001b[39;49m\u001b[39mlocation.longitude\u001b[39;49m\u001b[39m'\u001b[39;49m],bicimad_df\u001b[39m.\u001b[39;49mloc[i,\u001b[39m'\u001b[39;49m\u001b[39mlatitude\u001b[39;49m\u001b[39m'\u001b[39;49m],bicimad_df\u001b[39m.\u001b[39;49mloc[i,\u001b[39m'\u001b[39;49m\u001b[39mlongitude\u001b[39;49m\u001b[39m'\u001b[39;49m]) \u001b[39mfor\u001b[39;49;00m i \u001b[39min\u001b[39;49;00m \u001b[39mrange\u001b[39;49m(\u001b[39mlen\u001b[39;49m(bicimad_df[\u001b[39m'\u001b[39;49m\u001b[39mlongitude\u001b[39;49m\u001b[39m'\u001b[39;49m]))], axis\u001b[39m=\u001b[39;49m\u001b[39m1\u001b[39;49m)\n",
      "File \u001b[1;32mc:\\Users\\rjcol\\miniconda3\\envs\\pm1\\Lib\\site-packages\\pandas\\core\\frame.py:10034\u001b[0m, in \u001b[0;36mDataFrame.apply\u001b[1;34m(self, func, axis, raw, result_type, args, by_row, **kwargs)\u001b[0m\n\u001b[0;32m  10022\u001b[0m \u001b[39mfrom\u001b[39;00m \u001b[39mpandas\u001b[39;00m\u001b[39m.\u001b[39;00m\u001b[39mcore\u001b[39;00m\u001b[39m.\u001b[39;00m\u001b[39mapply\u001b[39;00m \u001b[39mimport\u001b[39;00m frame_apply\n\u001b[0;32m  10024\u001b[0m op \u001b[39m=\u001b[39m frame_apply(\n\u001b[0;32m  10025\u001b[0m     \u001b[39mself\u001b[39m,\n\u001b[0;32m  10026\u001b[0m     func\u001b[39m=\u001b[39mfunc,\n\u001b[1;32m   (...)\u001b[0m\n\u001b[0;32m  10032\u001b[0m     kwargs\u001b[39m=\u001b[39mkwargs,\n\u001b[0;32m  10033\u001b[0m )\n\u001b[1;32m> 10034\u001b[0m \u001b[39mreturn\u001b[39;00m op\u001b[39m.\u001b[39;49mapply()\u001b[39m.\u001b[39m__finalize__(\u001b[39mself\u001b[39m, method\u001b[39m=\u001b[39m\u001b[39m\"\u001b[39m\u001b[39mapply\u001b[39m\u001b[39m\"\u001b[39m)\n",
      "File \u001b[1;32mc:\\Users\\rjcol\\miniconda3\\envs\\pm1\\Lib\\site-packages\\pandas\\core\\apply.py:837\u001b[0m, in \u001b[0;36mFrameApply.apply\u001b[1;34m(self)\u001b[0m\n\u001b[0;32m    834\u001b[0m \u001b[39melif\u001b[39;00m \u001b[39mself\u001b[39m\u001b[39m.\u001b[39mraw:\n\u001b[0;32m    835\u001b[0m     \u001b[39mreturn\u001b[39;00m \u001b[39mself\u001b[39m\u001b[39m.\u001b[39mapply_raw()\n\u001b[1;32m--> 837\u001b[0m \u001b[39mreturn\u001b[39;00m \u001b[39mself\u001b[39;49m\u001b[39m.\u001b[39;49mapply_standard()\n",
      "File \u001b[1;32mc:\\Users\\rjcol\\miniconda3\\envs\\pm1\\Lib\\site-packages\\pandas\\core\\apply.py:963\u001b[0m, in \u001b[0;36mFrameApply.apply_standard\u001b[1;34m(self)\u001b[0m\n\u001b[0;32m    962\u001b[0m \u001b[39mdef\u001b[39;00m \u001b[39mapply_standard\u001b[39m(\u001b[39mself\u001b[39m):\n\u001b[1;32m--> 963\u001b[0m     results, res_index \u001b[39m=\u001b[39m \u001b[39mself\u001b[39;49m\u001b[39m.\u001b[39;49mapply_series_generator()\n\u001b[0;32m    965\u001b[0m     \u001b[39m# wrap results\u001b[39;00m\n\u001b[0;32m    966\u001b[0m     \u001b[39mreturn\u001b[39;00m \u001b[39mself\u001b[39m\u001b[39m.\u001b[39mwrap_results(results, res_index)\n",
      "File \u001b[1;32mc:\\Users\\rjcol\\miniconda3\\envs\\pm1\\Lib\\site-packages\\pandas\\core\\apply.py:979\u001b[0m, in \u001b[0;36mFrameApply.apply_series_generator\u001b[1;34m(self)\u001b[0m\n\u001b[0;32m    976\u001b[0m \u001b[39mwith\u001b[39;00m option_context(\u001b[39m\"\u001b[39m\u001b[39mmode.chained_assignment\u001b[39m\u001b[39m\"\u001b[39m, \u001b[39mNone\u001b[39;00m):\n\u001b[0;32m    977\u001b[0m     \u001b[39mfor\u001b[39;00m i, v \u001b[39min\u001b[39;00m \u001b[39menumerate\u001b[39m(series_gen):\n\u001b[0;32m    978\u001b[0m         \u001b[39m# ignore SettingWithCopy here in case the user mutates\u001b[39;00m\n\u001b[1;32m--> 979\u001b[0m         results[i] \u001b[39m=\u001b[39m \u001b[39mself\u001b[39;49m\u001b[39m.\u001b[39;49mfunc(v, \u001b[39m*\u001b[39;49m\u001b[39mself\u001b[39;49m\u001b[39m.\u001b[39;49margs, \u001b[39m*\u001b[39;49m\u001b[39m*\u001b[39;49m\u001b[39mself\u001b[39;49m\u001b[39m.\u001b[39;49mkwargs)\n\u001b[0;32m    980\u001b[0m         \u001b[39mif\u001b[39;00m \u001b[39misinstance\u001b[39m(results[i], ABCSeries):\n\u001b[0;32m    981\u001b[0m             \u001b[39m# If we have a view on v, we need to make a copy because\u001b[39;00m\n\u001b[0;32m    982\u001b[0m             \u001b[39m#  series_generator will swap out the underlying data\u001b[39;00m\n\u001b[0;32m    983\u001b[0m             results[i] \u001b[39m=\u001b[39m results[i]\u001b[39m.\u001b[39mcopy(deep\u001b[39m=\u001b[39m\u001b[39mFalse\u001b[39;00m)\n",
      "\u001b[1;32mc:\\Users\\rjcol\\ironhack\\project\\project_module_1\\ih_datamadpt0923_project_m1\\notebooks\\dev_notebook_.ipynb Cell 13\u001b[0m line \u001b[0;36m1\n\u001b[0;32m     <a href='vscode-notebook-cell:/c%3A/Users/rjcol/ironhack/project/project_module_1/ih_datamadpt0923_project_m1/notebooks/dev_notebook_.ipynb#X12sZmlsZQ%3D%3D?line=10'>11</a>\u001b[0m     finish \u001b[39m=\u001b[39m to_mercator(lat_finish, long_finish)\n\u001b[0;32m     <a href='vscode-notebook-cell:/c%3A/Users/rjcol/ironhack/project/project_module_1/ih_datamadpt0923_project_m1/notebooks/dev_notebook_.ipynb#X12sZmlsZQ%3D%3D?line=11'>12</a>\u001b[0m     \u001b[39mreturn\u001b[39;00m start\u001b[39m.\u001b[39mdistance(finish)\n\u001b[1;32m---> <a href='vscode-notebook-cell:/c%3A/Users/rjcol/ironhack/project/project_module_1/ih_datamadpt0923_project_m1/notebooks/dev_notebook_.ipynb#X12sZmlsZQ%3D%3D?line=14'>15</a>\u001b[0m interest_df\u001b[39m.\u001b[39mloc[:\u001b[39m1\u001b[39m,[\u001b[39m'\u001b[39m\u001b[39mstations_distances\u001b[39m\u001b[39m'\u001b[39m]] \u001b[39m=\u001b[39m interest_df\u001b[39m.\u001b[39mapply(\u001b[39mlambda\u001b[39;00m x: [distance_meters(x[\u001b[39m'\u001b[39;49m\u001b[39mlocation.latitude\u001b[39;49m\u001b[39m'\u001b[39;49m],x[\u001b[39m'\u001b[39;49m\u001b[39mlocation.longitude\u001b[39;49m\u001b[39m'\u001b[39;49m],bicimad_df\u001b[39m.\u001b[39;49mloc[i,\u001b[39m'\u001b[39;49m\u001b[39mlatitude\u001b[39;49m\u001b[39m'\u001b[39;49m],bicimad_df\u001b[39m.\u001b[39;49mloc[i,\u001b[39m'\u001b[39;49m\u001b[39mlongitude\u001b[39;49m\u001b[39m'\u001b[39;49m]) \u001b[39mfor\u001b[39;00m i \u001b[39min\u001b[39;00m \u001b[39mrange\u001b[39m(\u001b[39mlen\u001b[39m(bicimad_df[\u001b[39m'\u001b[39m\u001b[39mlongitude\u001b[39m\u001b[39m'\u001b[39m]))], axis\u001b[39m=\u001b[39m\u001b[39m1\u001b[39m)\n",
      "\u001b[1;32mc:\\Users\\rjcol\\ironhack\\project\\project_module_1\\ih_datamadpt0923_project_m1\\notebooks\\dev_notebook_.ipynb Cell 13\u001b[0m line \u001b[0;36m1\n\u001b[0;32m      <a href='vscode-notebook-cell:/c%3A/Users/rjcol/ironhack/project/project_module_1/ih_datamadpt0923_project_m1/notebooks/dev_notebook_.ipynb#X12sZmlsZQ%3D%3D?line=6'>7</a>\u001b[0m \u001b[39mdef\u001b[39;00m \u001b[39mdistance_meters\u001b[39m(lat_start, long_start, lat_finish, long_finish):\n\u001b[0;32m      <a href='vscode-notebook-cell:/c%3A/Users/rjcol/ironhack/project/project_module_1/ih_datamadpt0923_project_m1/notebooks/dev_notebook_.ipynb#X12sZmlsZQ%3D%3D?line=7'>8</a>\u001b[0m     \u001b[39m# return the distance in metres between to latitude/longitude pair points in degrees \u001b[39;00m\n\u001b[0;32m      <a href='vscode-notebook-cell:/c%3A/Users/rjcol/ironhack/project/project_module_1/ih_datamadpt0923_project_m1/notebooks/dev_notebook_.ipynb#X12sZmlsZQ%3D%3D?line=8'>9</a>\u001b[0m     \u001b[39m# (e.g.: Start Point -> 40.4400607 / -3.6425358 End Point -> 40.4234825 / -3.6292625)\u001b[39;00m\n\u001b[1;32m---> <a href='vscode-notebook-cell:/c%3A/Users/rjcol/ironhack/project/project_module_1/ih_datamadpt0923_project_m1/notebooks/dev_notebook_.ipynb#X12sZmlsZQ%3D%3D?line=9'>10</a>\u001b[0m     start \u001b[39m=\u001b[39m to_mercator(lat_start, long_start)\n\u001b[0;32m     <a href='vscode-notebook-cell:/c%3A/Users/rjcol/ironhack/project/project_module_1/ih_datamadpt0923_project_m1/notebooks/dev_notebook_.ipynb#X12sZmlsZQ%3D%3D?line=10'>11</a>\u001b[0m     finish \u001b[39m=\u001b[39m to_mercator(lat_finish, long_finish)\n\u001b[0;32m     <a href='vscode-notebook-cell:/c%3A/Users/rjcol/ironhack/project/project_module_1/ih_datamadpt0923_project_m1/notebooks/dev_notebook_.ipynb#X12sZmlsZQ%3D%3D?line=11'>12</a>\u001b[0m     \u001b[39mreturn\u001b[39;00m start\u001b[39m.\u001b[39mdistance(finish)\n",
      "\u001b[1;32mc:\\Users\\rjcol\\ironhack\\project\\project_module_1\\ih_datamadpt0923_project_m1\\notebooks\\dev_notebook_.ipynb Cell 13\u001b[0m line \u001b[0;36m4\n\u001b[0;32m      <a href='vscode-notebook-cell:/c%3A/Users/rjcol/ironhack/project/project_module_1/ih_datamadpt0923_project_m1/notebooks/dev_notebook_.ipynb#X12sZmlsZQ%3D%3D?line=0'>1</a>\u001b[0m \u001b[39mdef\u001b[39;00m \u001b[39mto_mercator\u001b[39m(lat, long):\n\u001b[0;32m      <a href='vscode-notebook-cell:/c%3A/Users/rjcol/ironhack/project/project_module_1/ih_datamadpt0923_project_m1/notebooks/dev_notebook_.ipynb#X12sZmlsZQ%3D%3D?line=1'>2</a>\u001b[0m     \u001b[39m# transform latitude/longitude data in degrees to pseudo-mercator coordinates in metres\u001b[39;00m\n\u001b[0;32m      <a href='vscode-notebook-cell:/c%3A/Users/rjcol/ironhack/project/project_module_1/ih_datamadpt0923_project_m1/notebooks/dev_notebook_.ipynb#X12sZmlsZQ%3D%3D?line=2'>3</a>\u001b[0m     c \u001b[39m=\u001b[39m gpd\u001b[39m.\u001b[39mGeoSeries([Point(lat, long)], crs\u001b[39m=\u001b[39m\u001b[39m4326\u001b[39m)\n\u001b[1;32m----> <a href='vscode-notebook-cell:/c%3A/Users/rjcol/ironhack/project/project_module_1/ih_datamadpt0923_project_m1/notebooks/dev_notebook_.ipynb#X12sZmlsZQ%3D%3D?line=3'>4</a>\u001b[0m     c \u001b[39m=\u001b[39m c\u001b[39m.\u001b[39;49mto_crs(\u001b[39m3857\u001b[39;49m)\n\u001b[0;32m      <a href='vscode-notebook-cell:/c%3A/Users/rjcol/ironhack/project/project_module_1/ih_datamadpt0923_project_m1/notebooks/dev_notebook_.ipynb#X12sZmlsZQ%3D%3D?line=4'>5</a>\u001b[0m     \u001b[39mreturn\u001b[39;00m c\n",
      "File \u001b[1;32mc:\\Users\\rjcol\\miniconda3\\envs\\pm1\\Lib\\site-packages\\geopandas\\geoseries.py:1157\u001b[0m, in \u001b[0;36mGeoSeries.to_crs\u001b[1;34m(self, crs, epsg)\u001b[0m\n\u001b[0;32m   1078\u001b[0m \u001b[39mdef\u001b[39;00m \u001b[39mto_crs\u001b[39m(\n\u001b[0;32m   1079\u001b[0m     \u001b[39mself\u001b[39m, crs: Optional[Any] \u001b[39m=\u001b[39m \u001b[39mNone\u001b[39;00m, epsg: Optional[\u001b[39mint\u001b[39m] \u001b[39m=\u001b[39m \u001b[39mNone\u001b[39;00m\n\u001b[0;32m   1080\u001b[0m ) \u001b[39m-\u001b[39m\u001b[39m>\u001b[39m GeoSeries:\n\u001b[0;32m   1081\u001b[0m \u001b[39m    \u001b[39m\u001b[39m\"\"\"Returns a ``GeoSeries`` with all geometries transformed to a new\u001b[39;00m\n\u001b[0;32m   1082\u001b[0m \u001b[39m    coordinate reference system.\u001b[39;00m\n\u001b[0;32m   1083\u001b[0m \n\u001b[1;32m   (...)\u001b[0m\n\u001b[0;32m   1154\u001b[0m \n\u001b[0;32m   1155\u001b[0m \u001b[39m    \"\"\"\u001b[39;00m\n\u001b[0;32m   1156\u001b[0m     \u001b[39mreturn\u001b[39;00m GeoSeries(\n\u001b[1;32m-> 1157\u001b[0m         \u001b[39mself\u001b[39;49m\u001b[39m.\u001b[39;49mvalues\u001b[39m.\u001b[39;49mto_crs(crs\u001b[39m=\u001b[39;49mcrs, epsg\u001b[39m=\u001b[39;49mepsg), index\u001b[39m=\u001b[39m\u001b[39mself\u001b[39m\u001b[39m.\u001b[39mindex, name\u001b[39m=\u001b[39m\u001b[39mself\u001b[39m\u001b[39m.\u001b[39mname\n\u001b[0;32m   1158\u001b[0m     )\n",
      "File \u001b[1;32mc:\\Users\\rjcol\\miniconda3\\envs\\pm1\\Lib\\site-packages\\geopandas\\array.py:872\u001b[0m, in \u001b[0;36mGeometryArray.to_crs\u001b[1;34m(self, crs, epsg)\u001b[0m\n\u001b[0;32m    868\u001b[0m     \u001b[39mreturn\u001b[39;00m \u001b[39mself\u001b[39m\n\u001b[0;32m    870\u001b[0m transformer \u001b[39m=\u001b[39m TransformerFromCRS(\u001b[39mself\u001b[39m\u001b[39m.\u001b[39mcrs, crs, always_xy\u001b[39m=\u001b[39m\u001b[39mTrue\u001b[39;00m)\n\u001b[1;32m--> 872\u001b[0m new_data \u001b[39m=\u001b[39m vectorized\u001b[39m.\u001b[39;49mtransform(\u001b[39mself\u001b[39;49m\u001b[39m.\u001b[39;49m_data, transformer\u001b[39m.\u001b[39;49mtransform)\n\u001b[0;32m    873\u001b[0m \u001b[39mreturn\u001b[39;00m GeometryArray(new_data, crs\u001b[39m=\u001b[39mcrs)\n",
      "File \u001b[1;32mc:\\Users\\rjcol\\miniconda3\\envs\\pm1\\Lib\\site-packages\\geopandas\\_vectorized.py:1293\u001b[0m, in \u001b[0;36mtransform\u001b[1;34m(data, func)\u001b[0m\n\u001b[0;32m   1290\u001b[0m result[\u001b[39m~\u001b[39mhas_z] \u001b[39m=\u001b[39m set_coordinates(data[\u001b[39m~\u001b[39mhas_z]\u001b[39m.\u001b[39mcopy(), np\u001b[39m.\u001b[39marray(new_coords_z)\u001b[39m.\u001b[39mT)\n\u001b[0;32m   1292\u001b[0m coords_z \u001b[39m=\u001b[39m get_coordinates(data[has_z], include_z\u001b[39m=\u001b[39m\u001b[39mTrue\u001b[39;00m)\n\u001b[1;32m-> 1293\u001b[0m new_coords_z \u001b[39m=\u001b[39m func(coords_z[:, \u001b[39m0\u001b[39;49m], coords_z[:, \u001b[39m1\u001b[39;49m], coords_z[:, \u001b[39m2\u001b[39;49m])\n\u001b[0;32m   1294\u001b[0m result[has_z] \u001b[39m=\u001b[39m set_coordinates(data[has_z]\u001b[39m.\u001b[39mcopy(), np\u001b[39m.\u001b[39marray(new_coords_z)\u001b[39m.\u001b[39mT)\n\u001b[0;32m   1296\u001b[0m \u001b[39mreturn\u001b[39;00m result\n",
      "File \u001b[1;32mc:\\Users\\rjcol\\miniconda3\\envs\\pm1\\Lib\\site-packages\\pyproj\\transformer.py:843\u001b[0m, in \u001b[0;36mTransformer.transform\u001b[1;34m(self, xx, yy, zz, tt, radians, errcheck, direction, inplace)\u001b[0m\n\u001b[0;32m    841\u001b[0m     intime \u001b[39m=\u001b[39m \u001b[39mNone\u001b[39;00m\n\u001b[0;32m    842\u001b[0m \u001b[39m# call pj_transform.  inx,iny,inz buffers modified in place.\u001b[39;00m\n\u001b[1;32m--> 843\u001b[0m \u001b[39mself\u001b[39;49m\u001b[39m.\u001b[39;49m_transformer\u001b[39m.\u001b[39;49m_transform(\n\u001b[0;32m    844\u001b[0m     inx\u001b[39m=\u001b[39;49minx,\n\u001b[0;32m    845\u001b[0m     iny\u001b[39m=\u001b[39;49miny,\n\u001b[0;32m    846\u001b[0m     inz\u001b[39m=\u001b[39;49minz,\n\u001b[0;32m    847\u001b[0m     intime\u001b[39m=\u001b[39;49mintime,\n\u001b[0;32m    848\u001b[0m     direction\u001b[39m=\u001b[39;49mdirection,\n\u001b[0;32m    849\u001b[0m     radians\u001b[39m=\u001b[39;49mradians,\n\u001b[0;32m    850\u001b[0m     errcheck\u001b[39m=\u001b[39;49merrcheck,\n\u001b[0;32m    851\u001b[0m )\n\u001b[0;32m    852\u001b[0m \u001b[39m# if inputs were lists, tuples or floats, convert back.\u001b[39;00m\n\u001b[0;32m    853\u001b[0m outx \u001b[39m=\u001b[39m _convertback(x_data_type, inx)\n",
      "\u001b[1;31mKeyboardInterrupt\u001b[0m: "
     ]
    }
   ],
   "source": [
    "def to_mercator(lat, long):\n",
    "    # transform latitude/longitude data in degrees to pseudo-mercator coordinates in metres\n",
    "    c = gpd.GeoSeries([Point(lat, long)], crs=4326)\n",
    "    c = c.to_crs(3857)\n",
    "    return c\n",
    "\n",
    "def distance_meters(lat_start, long_start, lat_finish, long_finish):\n",
    "    # return the distance in metres between to latitude/longitude pair points in degrees \n",
    "    # (e.g.: Start Point -> 40.4400607 / -3.6425358 End Point -> 40.4234825 / -3.6292625)\n",
    "    start = to_mercator(lat_start, long_start)\n",
    "    finish = to_mercator(lat_finish, long_finish)\n",
    "    return start.distance(finish)\n",
    "\n",
    "\n",
    "interest_df.loc[:1,['stations_distances']] = interest_df.apply(lambda x: [distance_meters(x['location.latitude'],x['location.longitude'],bicimad_df.loc[i,'latitude'],bicimad_df.loc[i,'longitude']) for i in range(len(bicimad_df['longitude']))], axis=1)"
   ]
  },
  {
   "cell_type": "code",
   "execution_count": null,
   "metadata": {},
   "outputs": [
    {
     "ename": "KeyboardInterrupt",
     "evalue": "",
     "output_type": "error",
     "traceback": [
      "\u001b[1;31m---------------------------------------------------------------------------\u001b[0m",
      "\u001b[1;31mKeyboardInterrupt\u001b[0m                         Traceback (most recent call last)",
      "\u001b[1;32mc:\\Users\\rjcol\\ironhack\\project\\project_module_1\\ih_datamadpt0923_project_m1\\notebooks\\dev_notebook_.ipynb Cell 12\u001b[0m line \u001b[0;36m2\n\u001b[0;32m     <a href='vscode-notebook-cell:/c%3A/Users/rjcol/ironhack/project/project_module_1/ih_datamadpt0923_project_m1/notebooks/dev_notebook_.ipynb#X15sZmlsZQ%3D%3D?line=17'>18</a>\u001b[0m     \u001b[39mreturn\u001b[39;00m distances[:\u001b[39m5\u001b[39m]  \u001b[39m# Only return the first 5 distances\u001b[39;00m\n\u001b[0;32m     <a href='vscode-notebook-cell:/c%3A/Users/rjcol/ironhack/project/project_module_1/ih_datamadpt0923_project_m1/notebooks/dev_notebook_.ipynb#X15sZmlsZQ%3D%3D?line=19'>20</a>\u001b[0m \u001b[39m# Apply the helper function to the dataframe\u001b[39;00m\n\u001b[1;32m---> <a href='vscode-notebook-cell:/c%3A/Users/rjcol/ironhack/project/project_module_1/ih_datamadpt0923_project_m1/notebooks/dev_notebook_.ipynb#X15sZmlsZQ%3D%3D?line=20'>21</a>\u001b[0m interest_df[\u001b[39m'\u001b[39m\u001b[39mstations_distances\u001b[39m\u001b[39m'\u001b[39m] \u001b[39m=\u001b[39m interest_df\u001b[39m.\u001b[39;49mapply(calculate_distance, axis\u001b[39m=\u001b[39;49m\u001b[39m1\u001b[39;49m)\n",
      "File \u001b[1;32mc:\\Users\\rjcol\\miniconda3\\envs\\pm1\\Lib\\site-packages\\pandas\\core\\frame.py:10034\u001b[0m, in \u001b[0;36mDataFrame.apply\u001b[1;34m(self, func, axis, raw, result_type, args, by_row, **kwargs)\u001b[0m\n\u001b[0;32m  10022\u001b[0m \u001b[39mfrom\u001b[39;00m \u001b[39mpandas\u001b[39;00m\u001b[39m.\u001b[39;00m\u001b[39mcore\u001b[39;00m\u001b[39m.\u001b[39;00m\u001b[39mapply\u001b[39;00m \u001b[39mimport\u001b[39;00m frame_apply\n\u001b[0;32m  10024\u001b[0m op \u001b[39m=\u001b[39m frame_apply(\n\u001b[0;32m  10025\u001b[0m     \u001b[39mself\u001b[39m,\n\u001b[0;32m  10026\u001b[0m     func\u001b[39m=\u001b[39mfunc,\n\u001b[1;32m   (...)\u001b[0m\n\u001b[0;32m  10032\u001b[0m     kwargs\u001b[39m=\u001b[39mkwargs,\n\u001b[0;32m  10033\u001b[0m )\n\u001b[1;32m> 10034\u001b[0m \u001b[39mreturn\u001b[39;00m op\u001b[39m.\u001b[39;49mapply()\u001b[39m.\u001b[39m__finalize__(\u001b[39mself\u001b[39m, method\u001b[39m=\u001b[39m\u001b[39m\"\u001b[39m\u001b[39mapply\u001b[39m\u001b[39m\"\u001b[39m)\n",
      "File \u001b[1;32mc:\\Users\\rjcol\\miniconda3\\envs\\pm1\\Lib\\site-packages\\pandas\\core\\apply.py:837\u001b[0m, in \u001b[0;36mFrameApply.apply\u001b[1;34m(self)\u001b[0m\n\u001b[0;32m    834\u001b[0m \u001b[39melif\u001b[39;00m \u001b[39mself\u001b[39m\u001b[39m.\u001b[39mraw:\n\u001b[0;32m    835\u001b[0m     \u001b[39mreturn\u001b[39;00m \u001b[39mself\u001b[39m\u001b[39m.\u001b[39mapply_raw()\n\u001b[1;32m--> 837\u001b[0m \u001b[39mreturn\u001b[39;00m \u001b[39mself\u001b[39;49m\u001b[39m.\u001b[39;49mapply_standard()\n",
      "File \u001b[1;32mc:\\Users\\rjcol\\miniconda3\\envs\\pm1\\Lib\\site-packages\\pandas\\core\\apply.py:963\u001b[0m, in \u001b[0;36mFrameApply.apply_standard\u001b[1;34m(self)\u001b[0m\n\u001b[0;32m    962\u001b[0m \u001b[39mdef\u001b[39;00m \u001b[39mapply_standard\u001b[39m(\u001b[39mself\u001b[39m):\n\u001b[1;32m--> 963\u001b[0m     results, res_index \u001b[39m=\u001b[39m \u001b[39mself\u001b[39;49m\u001b[39m.\u001b[39;49mapply_series_generator()\n\u001b[0;32m    965\u001b[0m     \u001b[39m# wrap results\u001b[39;00m\n\u001b[0;32m    966\u001b[0m     \u001b[39mreturn\u001b[39;00m \u001b[39mself\u001b[39m\u001b[39m.\u001b[39mwrap_results(results, res_index)\n",
      "File \u001b[1;32mc:\\Users\\rjcol\\miniconda3\\envs\\pm1\\Lib\\site-packages\\pandas\\core\\apply.py:979\u001b[0m, in \u001b[0;36mFrameApply.apply_series_generator\u001b[1;34m(self)\u001b[0m\n\u001b[0;32m    976\u001b[0m \u001b[39mwith\u001b[39;00m option_context(\u001b[39m\"\u001b[39m\u001b[39mmode.chained_assignment\u001b[39m\u001b[39m\"\u001b[39m, \u001b[39mNone\u001b[39;00m):\n\u001b[0;32m    977\u001b[0m     \u001b[39mfor\u001b[39;00m i, v \u001b[39min\u001b[39;00m \u001b[39menumerate\u001b[39m(series_gen):\n\u001b[0;32m    978\u001b[0m         \u001b[39m# ignore SettingWithCopy here in case the user mutates\u001b[39;00m\n\u001b[1;32m--> 979\u001b[0m         results[i] \u001b[39m=\u001b[39m \u001b[39mself\u001b[39;49m\u001b[39m.\u001b[39;49mfunc(v, \u001b[39m*\u001b[39;49m\u001b[39mself\u001b[39;49m\u001b[39m.\u001b[39;49margs, \u001b[39m*\u001b[39;49m\u001b[39m*\u001b[39;49m\u001b[39mself\u001b[39;49m\u001b[39m.\u001b[39;49mkwargs)\n\u001b[0;32m    980\u001b[0m         \u001b[39mif\u001b[39;00m \u001b[39misinstance\u001b[39m(results[i], ABCSeries):\n\u001b[0;32m    981\u001b[0m             \u001b[39m# If we have a view on v, we need to make a copy because\u001b[39;00m\n\u001b[0;32m    982\u001b[0m             \u001b[39m#  series_generator will swap out the underlying data\u001b[39;00m\n\u001b[0;32m    983\u001b[0m             results[i] \u001b[39m=\u001b[39m results[i]\u001b[39m.\u001b[39mcopy(deep\u001b[39m=\u001b[39m\u001b[39mFalse\u001b[39;00m)\n",
      "\u001b[1;32mc:\\Users\\rjcol\\ironhack\\project\\project_module_1\\ih_datamadpt0923_project_m1\\notebooks\\dev_notebook_.ipynb Cell 12\u001b[0m line \u001b[0;36m1\n\u001b[0;32m     <a href='vscode-notebook-cell:/c%3A/Users/rjcol/ironhack/project/project_module_1/ih_datamadpt0923_project_m1/notebooks/dev_notebook_.ipynb#X15sZmlsZQ%3D%3D?line=14'>15</a>\u001b[0m \u001b[39mdef\u001b[39;00m \u001b[39mcalculate_distance\u001b[39m(row):\n\u001b[0;32m     <a href='vscode-notebook-cell:/c%3A/Users/rjcol/ironhack/project/project_module_1/ih_datamadpt0923_project_m1/notebooks/dev_notebook_.ipynb#X15sZmlsZQ%3D%3D?line=15'>16</a>\u001b[0m     lat1, lon1 \u001b[39m=\u001b[39m row[\u001b[39m'\u001b[39m\u001b[39mlocation.latitude\u001b[39m\u001b[39m'\u001b[39m], row[\u001b[39m'\u001b[39m\u001b[39mlocation.longitude\u001b[39m\u001b[39m'\u001b[39m]\n\u001b[1;32m---> <a href='vscode-notebook-cell:/c%3A/Users/rjcol/ironhack/project/project_module_1/ih_datamadpt0923_project_m1/notebooks/dev_notebook_.ipynb#X15sZmlsZQ%3D%3D?line=16'>17</a>\u001b[0m     distances \u001b[39m=\u001b[39m [distance_meters(lat1, lon1, lat2, lon2) \u001b[39mfor\u001b[39;00m lat2, lon2 \u001b[39min\u001b[39;00m \u001b[39mzip\u001b[39m(stations_df[\u001b[39m'\u001b[39m\u001b[39mlatitude\u001b[39m\u001b[39m'\u001b[39m], stations_df[\u001b[39m'\u001b[39m\u001b[39mlongitude\u001b[39m\u001b[39m'\u001b[39m])]\n\u001b[0;32m     <a href='vscode-notebook-cell:/c%3A/Users/rjcol/ironhack/project/project_module_1/ih_datamadpt0923_project_m1/notebooks/dev_notebook_.ipynb#X15sZmlsZQ%3D%3D?line=17'>18</a>\u001b[0m     \u001b[39mreturn\u001b[39;00m distances[:\u001b[39m5\u001b[39m]\n",
      "\u001b[1;32mc:\\Users\\rjcol\\ironhack\\project\\project_module_1\\ih_datamadpt0923_project_m1\\notebooks\\dev_notebook_.ipynb Cell 12\u001b[0m line \u001b[0;36m1\n\u001b[0;32m     <a href='vscode-notebook-cell:/c%3A/Users/rjcol/ironhack/project/project_module_1/ih_datamadpt0923_project_m1/notebooks/dev_notebook_.ipynb#X15sZmlsZQ%3D%3D?line=9'>10</a>\u001b[0m start \u001b[39m=\u001b[39m to_mercator(lat_start, long_start)\n\u001b[0;32m     <a href='vscode-notebook-cell:/c%3A/Users/rjcol/ironhack/project/project_module_1/ih_datamadpt0923_project_m1/notebooks/dev_notebook_.ipynb#X15sZmlsZQ%3D%3D?line=10'>11</a>\u001b[0m finish \u001b[39m=\u001b[39m to_mercator(lat_finish, long_finish)\n\u001b[1;32m---> <a href='vscode-notebook-cell:/c%3A/Users/rjcol/ironhack/project/project_module_1/ih_datamadpt0923_project_m1/notebooks/dev_notebook_.ipynb#X15sZmlsZQ%3D%3D?line=11'>12</a>\u001b[0m \u001b[39mreturn\u001b[39;00m start\u001b[39m.\u001b[39;49mdistance(finish)\n",
      "File \u001b[1;32mc:\\Users\\rjcol\\miniconda3\\envs\\pm1\\Lib\\site-packages\\geopandas\\base.py:2577\u001b[0m, in \u001b[0;36mGeoPandasBase.distance\u001b[1;34m(self, other, align)\u001b[0m\n\u001b[0;32m   2483\u001b[0m \u001b[39mdef\u001b[39;00m \u001b[39mdistance\u001b[39m(\u001b[39mself\u001b[39m, other, align\u001b[39m=\u001b[39m\u001b[39mTrue\u001b[39;00m):\n\u001b[0;32m   2484\u001b[0m \u001b[39m    \u001b[39m\u001b[39m\"\"\"Returns a ``Series`` containing the distance to aligned `other`.\u001b[39;00m\n\u001b[0;32m   2485\u001b[0m \n\u001b[0;32m   2486\u001b[0m \u001b[39m    The operation works on a 1-to-1 row-wise manner:\u001b[39;00m\n\u001b[1;32m   (...)\u001b[0m\n\u001b[0;32m   2575\u001b[0m \u001b[39m    dtype: float64\u001b[39;00m\n\u001b[0;32m   2576\u001b[0m \u001b[39m    \"\"\"\u001b[39;00m\n\u001b[1;32m-> 2577\u001b[0m     \u001b[39mreturn\u001b[39;00m _binary_op(\u001b[39m\"\u001b[39;49m\u001b[39mdistance\u001b[39;49m\u001b[39m\"\u001b[39;49m, \u001b[39mself\u001b[39;49m, other, align)\n",
      "File \u001b[1;32mc:\\Users\\rjcol\\miniconda3\\envs\\pm1\\Lib\\site-packages\\geopandas\\base.py:63\u001b[0m, in \u001b[0;36m_binary_op\u001b[1;34m(op, this, other, align, *args, **kwargs)\u001b[0m\n\u001b[0;32m     60\u001b[0m \u001b[39mdef\u001b[39;00m \u001b[39m_binary_op\u001b[39m(op, this, other, align, \u001b[39m*\u001b[39margs, \u001b[39m*\u001b[39m\u001b[39m*\u001b[39mkwargs):\n\u001b[0;32m     61\u001b[0m     \u001b[39m# type: (str, GeoSeries, GeoSeries, args/kwargs) -> Series[bool/float]\u001b[39;00m\n\u001b[0;32m     62\u001b[0m \u001b[39m    \u001b[39m\u001b[39m\"\"\"Binary operation on GeoSeries objects that returns a Series\"\"\"\u001b[39;00m\n\u001b[1;32m---> 63\u001b[0m     data, index \u001b[39m=\u001b[39m _delegate_binary_method(op, this, other, align, \u001b[39m*\u001b[39;49margs, \u001b[39m*\u001b[39;49m\u001b[39m*\u001b[39;49mkwargs)\n\u001b[0;32m     64\u001b[0m     \u001b[39mreturn\u001b[39;00m Series(data, index\u001b[39m=\u001b[39mindex)\n",
      "File \u001b[1;32mc:\\Users\\rjcol\\miniconda3\\envs\\pm1\\Lib\\site-packages\\geopandas\\base.py:47\u001b[0m, in \u001b[0;36m_delegate_binary_method\u001b[1;34m(op, this, other, align, *args, **kwargs)\u001b[0m\n\u001b[0;32m     44\u001b[0m \u001b[39melse\u001b[39;00m:\n\u001b[0;32m     45\u001b[0m     \u001b[39mraise\u001b[39;00m \u001b[39mTypeError\u001b[39;00m(\u001b[39mtype\u001b[39m(this), \u001b[39mtype\u001b[39m(other))\n\u001b[1;32m---> 47\u001b[0m data \u001b[39m=\u001b[39m \u001b[39mgetattr\u001b[39;49m(a_this, op)(other, \u001b[39m*\u001b[39;49margs, \u001b[39m*\u001b[39;49m\u001b[39m*\u001b[39;49mkwargs)\n\u001b[0;32m     48\u001b[0m \u001b[39mreturn\u001b[39;00m data, this\u001b[39m.\u001b[39mindex\n",
      "File \u001b[1;32mc:\\Users\\rjcol\\miniconda3\\envs\\pm1\\Lib\\site-packages\\geopandas\\array.py:693\u001b[0m, in \u001b[0;36mGeometryArray.distance\u001b[1;34m(self, other)\u001b[0m\n\u001b[0;32m    691\u001b[0m \u001b[39mdef\u001b[39;00m \u001b[39mdistance\u001b[39m(\u001b[39mself\u001b[39m, other):\n\u001b[0;32m    692\u001b[0m     \u001b[39mself\u001b[39m\u001b[39m.\u001b[39mcheck_geographic_crs(stacklevel\u001b[39m=\u001b[39m\u001b[39m6\u001b[39m)\n\u001b[1;32m--> 693\u001b[0m     \u001b[39mreturn\u001b[39;00m \u001b[39mself\u001b[39;49m\u001b[39m.\u001b[39;49m_binary_method(\u001b[39m\"\u001b[39;49m\u001b[39mdistance\u001b[39;49m\u001b[39m\"\u001b[39;49m, \u001b[39mself\u001b[39;49m, other)\n",
      "File \u001b[1;32mc:\\Users\\rjcol\\miniconda3\\envs\\pm1\\Lib\\site-packages\\geopandas\\array.py:611\u001b[0m, in \u001b[0;36mGeometryArray._binary_method\u001b[1;34m(op, left, right, **kwargs)\u001b[0m\n\u001b[0;32m    608\u001b[0m         _crs_mismatch_warn(left, right, stacklevel\u001b[39m=\u001b[39m\u001b[39m7\u001b[39m)\n\u001b[0;32m    609\u001b[0m     right \u001b[39m=\u001b[39m right\u001b[39m.\u001b[39m_data\n\u001b[1;32m--> 611\u001b[0m \u001b[39mreturn\u001b[39;00m \u001b[39mgetattr\u001b[39;49m(vectorized, op)(left\u001b[39m.\u001b[39;49m_data, right, \u001b[39m*\u001b[39;49m\u001b[39m*\u001b[39;49mkwargs)\n",
      "File \u001b[1;32mc:\\Users\\rjcol\\miniconda3\\envs\\pm1\\Lib\\site-packages\\geopandas\\_vectorized.py:982\u001b[0m, in \u001b[0;36mdistance\u001b[1;34m(data, other)\u001b[0m\n\u001b[0;32m    980\u001b[0m \u001b[39mdef\u001b[39;00m \u001b[39mdistance\u001b[39m(data, other):\n\u001b[0;32m    981\u001b[0m     \u001b[39mif\u001b[39;00m compat\u001b[39m.\u001b[39mUSE_SHAPELY_20:\n\u001b[1;32m--> 982\u001b[0m         \u001b[39mreturn\u001b[39;00m shapely\u001b[39m.\u001b[39;49mdistance(data, other)\n\u001b[0;32m    983\u001b[0m     \u001b[39melif\u001b[39;00m compat\u001b[39m.\u001b[39mUSE_PYGEOS:\n\u001b[0;32m    984\u001b[0m         \u001b[39mreturn\u001b[39;00m _binary_method(\u001b[39m\"\u001b[39m\u001b[39mdistance\u001b[39m\u001b[39m\"\u001b[39m, data, other)\n",
      "File \u001b[1;32mc:\\Users\\rjcol\\miniconda3\\envs\\pm1\\Lib\\site-packages\\shapely\\decorators.py:77\u001b[0m, in \u001b[0;36mmultithreading_enabled.<locals>.wrapped\u001b[1;34m(*args, **kwargs)\u001b[0m\n\u001b[0;32m     75\u001b[0m     \u001b[39mfor\u001b[39;00m arr \u001b[39min\u001b[39;00m array_args:\n\u001b[0;32m     76\u001b[0m         arr\u001b[39m.\u001b[39mflags\u001b[39m.\u001b[39mwriteable \u001b[39m=\u001b[39m \u001b[39mFalse\u001b[39;00m\n\u001b[1;32m---> 77\u001b[0m     \u001b[39mreturn\u001b[39;00m func(\u001b[39m*\u001b[39;49margs, \u001b[39m*\u001b[39;49m\u001b[39m*\u001b[39;49mkwargs)\n\u001b[0;32m     78\u001b[0m \u001b[39mfinally\u001b[39;00m:\n\u001b[0;32m     79\u001b[0m     \u001b[39mfor\u001b[39;00m arr, old_flag \u001b[39min\u001b[39;00m \u001b[39mzip\u001b[39m(array_args, old_flags):\n",
      "File \u001b[1;32mc:\\Users\\rjcol\\miniconda3\\envs\\pm1\\Lib\\site-packages\\shapely\\measurement.py:72\u001b[0m, in \u001b[0;36mdistance\u001b[1;34m(a, b, **kwargs)\u001b[0m\n\u001b[0;32m     47\u001b[0m \u001b[39m@multithreading_enabled\u001b[39m\n\u001b[0;32m     48\u001b[0m \u001b[39mdef\u001b[39;00m \u001b[39mdistance\u001b[39m(a, b, \u001b[39m*\u001b[39m\u001b[39m*\u001b[39mkwargs):\n\u001b[0;32m     49\u001b[0m \u001b[39m    \u001b[39m\u001b[39m\"\"\"Computes the Cartesian distance between two geometries.\u001b[39;00m\n\u001b[0;32m     50\u001b[0m \n\u001b[0;32m     51\u001b[0m \u001b[39m    Parameters\u001b[39;00m\n\u001b[1;32m   (...)\u001b[0m\n\u001b[0;32m     70\u001b[0m \u001b[39m    nan\u001b[39;00m\n\u001b[0;32m     71\u001b[0m \u001b[39m    \"\"\"\u001b[39;00m\n\u001b[1;32m---> 72\u001b[0m     \u001b[39mreturn\u001b[39;00m lib\u001b[39m.\u001b[39;49mdistance(a, b, \u001b[39m*\u001b[39;49m\u001b[39m*\u001b[39;49mkwargs)\n",
      "\u001b[1;31mKeyboardInterrupt\u001b[0m: "
     ]
    }
   ],
   "source": [
    "def to_mercator(lat, long):\n",
    "    # transform latitude/longitude data in degrees to pseudo-mercator coordinates in metres\n",
    "    c = gpd.GeoSeries([Point(lat, long)], crs=4326)\n",
    "    c = c.to_crs(3857)\n",
    "    return c\n",
    "\n",
    "def distance_meters(lat_start, long_start, lat_finish, long_finish):\n",
    "    # return the distance in metres between to latitude/longitude pair points in degrees \n",
    "    # (e.g.: Start Point -> 40.4400607 / -3.6425358 End Point -> 40.4234825 / -3.6292625)\n",
    "    start = to_mercator(lat_start, long_start)\n",
    "    finish = to_mercator(lat_finish, long_finish)\n",
    "    return start.distance(finish)\n",
    "\n",
    "# Create a helper function to calculate distance between two coordinates\n",
    "def calculate_distance(row):\n",
    "    lat1, lon1 = row['location.latitude'], row['location.longitude']\n",
    "    distances = [distance_meters(lat1, lon1, lat2, lon2) for lat2, lon2 in zip(stations_df['latitude'], stations_df['longitude'])]\n",
    "    return distances[:5]  # Only return the first 5 distances\n",
    "\n",
    "# Apply the helper function to the dataframe\n",
    "interest_df['stations_distances'] = interest_df.apply(calculate_distance, axis=1)"
   ]
  },
  {
   "cell_type": "code",
   "execution_count": 120,
   "metadata": {},
   "outputs": [],
   "source": [
    "def nearest(x):\n",
    "    dist = [distance_meters(interest_df['location.latitude'][x],interest_df['location.longitude'][x] , bicimad_df['latitude'][i], bicimad_df['longitude'][i])[0] for i in range(len(bicimad_df['longitude']))]\n",
    "    print(len(dist))\n",
    "    return f'Your nearest station is {bicimad_df['name'][dist.index(min(dist))].split('- ')[1]} located at {round(min(dist),2)} meters from you'\n",
    "      \n"
   ]
  },
  {
   "cell_type": "code",
   "execution_count": 124,
   "metadata": {},
   "outputs": [
    {
     "name": "stdout",
     "output_type": "stream",
     "text": [
      "264\n"
     ]
    },
    {
     "data": {
      "text/plain": [
       "'Your nearest station is Quinta Fuente del Berro located at 356.93 meters from you'"
      ]
     },
     "execution_count": 124,
     "metadata": {},
     "output_type": "execute_result"
    }
   ],
   "source": [
    "nearest(5)"
   ]
  },
  {
   "cell_type": "code",
   "execution_count": null,
   "metadata": {},
   "outputs": [],
   "source": []
  }
 ],
 "metadata": {
  "kernelspec": {
   "display_name": "pm1",
   "language": "python",
   "name": "python3"
  },
  "language_info": {
   "codemirror_mode": {
    "name": "ipython",
    "version": 3
   },
   "file_extension": ".py",
   "mimetype": "text/x-python",
   "name": "python",
   "nbconvert_exporter": "python",
   "pygments_lexer": "ipython3",
   "version": "3.12.0"
  }
 },
 "nbformat": 4,
 "nbformat_minor": 5
}
